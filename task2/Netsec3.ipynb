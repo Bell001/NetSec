{
 "cells": [
  {
   "cell_type": "markdown",
   "metadata": {},
   "source": [
    "###Tasks\n",
    "\n",
    "Statistic Time Series\n",
    "    -  User\n",
    "    -  IP → IPv4, IPv6, Dual\n",
    "    -  Login/Logout\n",
    "\n",
    "Distribution\n",
    "    -  Ratio IP Usage\n",
    "    -  Login Server Distribution\n",
    "    -  Login Activity\n",
    "        -  Login\n",
    "        -  Logout\n",
    "        -  Timer \n",
    "        -  …\n"
   ]
  },
  {
   "cell_type": "markdown",
   "metadata": {},
   "source": [
    "-  ideal time : เวลาที่ทิ้งเครื่องไว้ไม่ log out ดูจาก field 4,19 หาก 19 มากกว่า 4 แสดงว่าดองเครื่องไว้\n",
    "- captive portal : เราจะได้ ip ตั้งแต่แรก แต่บล็อคบาง port ไว้ก่อน เช่น 53  \n",
    "- 802.1x : ip จะถูกกักไว้ไม่ให้ผ่าน firewall, special protocol ทำ \n",
    "  standard, simple แต่ไม่ปลอดภัย"
   ]
  },
  {
   "cell_type": "code",
   "execution_count": 135,
   "metadata": {},
   "outputs": [],
   "source": [
    "import pandas as pd"
   ]
  },
  {
   "cell_type": "code",
   "execution_count": 136,
   "metadata": {},
   "outputs": [],
   "source": [
    "import numpy as np"
   ]
  },
  {
   "cell_type": "code",
   "execution_count": 137,
   "metadata": {},
   "outputs": [],
   "source": [
    "csv = pd.read_csv(\"login-20170102-anon.csv\", sep=' ')"
   ]
  },
  {
   "cell_type": "code",
   "execution_count": 23,
   "metadata": {},
   "outputs": [
    {
     "data": {
      "text/html": [
       "<div>\n",
       "<style scoped>\n",
       "    .dataframe tbody tr th:only-of-type {\n",
       "        vertical-align: middle;\n",
       "    }\n",
       "\n",
       "    .dataframe tbody tr th {\n",
       "        vertical-align: top;\n",
       "    }\n",
       "\n",
       "    .dataframe thead th {\n",
       "        text-align: right;\n",
       "    }\n",
       "</style>\n",
       "<table border=\"1\" class=\"dataframe\">\n",
       "  <thead>\n",
       "    <tr style=\"text-align: right;\">\n",
       "      <th></th>\n",
       "      <th>login_session_id</th>\n",
       "      <th>login_timestamp</th>\n",
       "      <th>user</th>\n",
       "      <th>logout_timestamp</th>\n",
       "      <th>mac_address</th>\n",
       "      <th>ipv4</th>\n",
       "      <th>ipv6</th>\n",
       "      <th>agent_ip</th>\n",
       "      <th>agent_type</th>\n",
       "      <th>via_ip</th>\n",
       "      <th>ipv4_byte_in</th>\n",
       "      <th>ipv4_byte_out</th>\n",
       "      <th>ipv4_pkt_in</th>\n",
       "      <th>ipv4_pkt_out</th>\n",
       "      <th>ipv6_byte_in</th>\n",
       "      <th>ipv6_byte_out</th>\n",
       "      <th>ipv6_pkt_in</th>\n",
       "      <th>ipv6_pkt_out</th>\n",
       "      <th>last_seen_timestamp</th>\n",
       "    </tr>\n",
       "  </thead>\n",
       "  <tbody>\n",
       "    <tr>\n",
       "      <th>0</th>\n",
       "      <td>4592673</td>\n",
       "      <td>1483288203296</td>\n",
       "      <td>RMUn6owyUvaNtkG@bkn@ku.ac.th</td>\n",
       "      <td>1483290005049</td>\n",
       "      <td>-</td>\n",
       "      <td>158.108.130.137</td>\n",
       "      <td>-</td>\n",
       "      <td>::ffff:158.108.218.212</td>\n",
       "      <td>TIMEOUT</td>\n",
       "      <td>TIMER</td>\n",
       "      <td>0</td>\n",
       "      <td>0</td>\n",
       "      <td>0</td>\n",
       "      <td>0</td>\n",
       "      <td>0</td>\n",
       "      <td>0</td>\n",
       "      <td>0</td>\n",
       "      <td>0</td>\n",
       "      <td>1483288203296</td>\n",
       "    </tr>\n",
       "    <tr>\n",
       "      <th>1</th>\n",
       "      <td>4592717</td>\n",
       "      <td>1483290011767</td>\n",
       "      <td>xU9efKLW@ku.ac.th</td>\n",
       "      <td>-</td>\n",
       "      <td>-</td>\n",
       "      <td>10.96.20.59</td>\n",
       "      <td>2406:3100:4000:4403:b9d8:bbb8:3f2b:e09c</td>\n",
       "      <td>::ffff:158.108.218.205</td>\n",
       "      <td>login-page</td>\n",
       "      <td>-</td>\n",
       "      <td>0</td>\n",
       "      <td>0</td>\n",
       "      <td>0</td>\n",
       "      <td>0</td>\n",
       "      <td>0</td>\n",
       "      <td>0</td>\n",
       "      <td>0</td>\n",
       "      <td>0</td>\n",
       "      <td>1483290011767</td>\n",
       "    </tr>\n",
       "    <tr>\n",
       "      <th>2</th>\n",
       "      <td>4592674</td>\n",
       "      <td>1483288227815</td>\n",
       "      <td>RMUnqdWM2oDDyCu@ku.ac.th</td>\n",
       "      <td>1483290030071</td>\n",
       "      <td>-</td>\n",
       "      <td>158.108.141.25</td>\n",
       "      <td>2406:3100:1018:2::4eb</td>\n",
       "      <td>::ffff:158.108.218.201</td>\n",
       "      <td>TIMEOUT</td>\n",
       "      <td>TIMER</td>\n",
       "      <td>0</td>\n",
       "      <td>0</td>\n",
       "      <td>0</td>\n",
       "      <td>0</td>\n",
       "      <td>0</td>\n",
       "      <td>0</td>\n",
       "      <td>0</td>\n",
       "      <td>0</td>\n",
       "      <td>1483288227815</td>\n",
       "    </tr>\n",
       "    <tr>\n",
       "      <th>3</th>\n",
       "      <td>4592675</td>\n",
       "      <td>1483288244859</td>\n",
       "      <td>RMUpKGWYBnxVtvL@ku.ac.th</td>\n",
       "      <td>1483290045075</td>\n",
       "      <td>-</td>\n",
       "      <td>158.108.228.49</td>\n",
       "      <td>-</td>\n",
       "      <td>::ffff:158.108.218.206</td>\n",
       "      <td>TIMEOUT</td>\n",
       "      <td>TIMER</td>\n",
       "      <td>0</td>\n",
       "      <td>0</td>\n",
       "      <td>0</td>\n",
       "      <td>0</td>\n",
       "      <td>0</td>\n",
       "      <td>0</td>\n",
       "      <td>0</td>\n",
       "      <td>0</td>\n",
       "      <td>1483288244859</td>\n",
       "    </tr>\n",
       "    <tr>\n",
       "      <th>4</th>\n",
       "      <td>4592718</td>\n",
       "      <td>1483290048925</td>\n",
       "      <td>RMUnqdWM2oDCHx5@ku.ac.th</td>\n",
       "      <td>-</td>\n",
       "      <td>-</td>\n",
       "      <td>158.108.236.90</td>\n",
       "      <td>2406:3100:1018:1::2f5</td>\n",
       "      <td>::ffff:158.108.218.204</td>\n",
       "      <td>login-page</td>\n",
       "      <td>-</td>\n",
       "      <td>0</td>\n",
       "      <td>0</td>\n",
       "      <td>0</td>\n",
       "      <td>0</td>\n",
       "      <td>0</td>\n",
       "      <td>0</td>\n",
       "      <td>0</td>\n",
       "      <td>0</td>\n",
       "      <td>1483290048925</td>\n",
       "    </tr>\n",
       "  </tbody>\n",
       "</table>\n",
       "</div>"
      ],
      "text/plain": [
       "   login_session_id  login_timestamp                          user  \\\n",
       "0           4592673    1483288203296  RMUn6owyUvaNtkG@bkn@ku.ac.th   \n",
       "1           4592717    1483290011767             xU9efKLW@ku.ac.th   \n",
       "2           4592674    1483288227815      RMUnqdWM2oDDyCu@ku.ac.th   \n",
       "3           4592675    1483288244859      RMUpKGWYBnxVtvL@ku.ac.th   \n",
       "4           4592718    1483290048925      RMUnqdWM2oDCHx5@ku.ac.th   \n",
       "\n",
       "  logout_timestamp mac_address             ipv4  \\\n",
       "0    1483290005049           -  158.108.130.137   \n",
       "1                -           -      10.96.20.59   \n",
       "2    1483290030071           -   158.108.141.25   \n",
       "3    1483290045075           -   158.108.228.49   \n",
       "4                -           -   158.108.236.90   \n",
       "\n",
       "                                      ipv6                agent_ip  \\\n",
       "0                                        -  ::ffff:158.108.218.212   \n",
       "1  2406:3100:4000:4403:b9d8:bbb8:3f2b:e09c  ::ffff:158.108.218.205   \n",
       "2                    2406:3100:1018:2::4eb  ::ffff:158.108.218.201   \n",
       "3                                        -  ::ffff:158.108.218.206   \n",
       "4                    2406:3100:1018:1::2f5  ::ffff:158.108.218.204   \n",
       "\n",
       "   agent_type via_ip  ipv4_byte_in  ipv4_byte_out  ipv4_pkt_in  ipv4_pkt_out  \\\n",
       "0     TIMEOUT  TIMER             0              0            0             0   \n",
       "1  login-page      -             0              0            0             0   \n",
       "2     TIMEOUT  TIMER             0              0            0             0   \n",
       "3     TIMEOUT  TIMER             0              0            0             0   \n",
       "4  login-page      -             0              0            0             0   \n",
       "\n",
       "   ipv6_byte_in  ipv6_byte_out  ipv6_pkt_in  ipv6_pkt_out  last_seen_timestamp  \n",
       "0             0              0            0             0        1483288203296  \n",
       "1             0              0            0             0        1483290011767  \n",
       "2             0              0            0             0        1483288227815  \n",
       "3             0              0            0             0        1483288244859  \n",
       "4             0              0            0             0        1483290048925  "
      ]
     },
     "execution_count": 23,
     "metadata": {},
     "output_type": "execute_result"
    }
   ],
   "source": [
    "csv.head()"
   ]
  },
  {
   "cell_type": "code",
   "execution_count": 24,
   "metadata": {},
   "outputs": [
    {
     "data": {
      "text/plain": [
       "-    7137\n",
       "Name: mac_address, dtype: int64"
      ]
     },
     "execution_count": 24,
     "metadata": {},
     "output_type": "execute_result"
    }
   ],
   "source": [
    "csv['mac_address'].value_counts()"
   ]
  },
  {
   "cell_type": "code",
   "execution_count": 13,
   "metadata": {},
   "outputs": [
    {
     "data": {
      "text/plain": [
       "Index(['login_session_id', 'login_timestamp', 'user', 'logout_timestamp',\n",
       "       'mac_address', 'ipv4', 'ipv6', 'agent_ip', 'agent_type', 'via_ip',\n",
       "       'ipv4_byte_in', 'ipv4_byte_out', 'ipv4_pkt_in', 'ipv4_pkt_out',\n",
       "       'ipv6_byte_in', 'ipv6_byte_out', 'ipv6_pkt_in', 'ipv6_pkt_out',\n",
       "       'last_seen_timestamp'],\n",
       "      dtype='object')"
      ]
     },
     "execution_count": 13,
     "metadata": {},
     "output_type": "execute_result"
    }
   ],
   "source": [
    "csv.keys()"
   ]
  },
  {
   "cell_type": "code",
   "execution_count": 5,
   "metadata": {},
   "outputs": [
    {
     "data": {
      "text/plain": [
       "4t4XLvxJhg@ku.ac.th             43\n",
       "SbPkiidnaVtVX67@ku.ac.th        36\n",
       "zTZoQnRk@ku.ac.th               26\n",
       "4t4WDrMTZV@ku.ac.th             24\n",
       "RMUnqdUD36txBiX@ku.ac.th        21\n",
       "RMUoaT2ZbD7Dzz3@ku.ac.th        20\n",
       "t1T1o1a7@ku.ac.th               20\n",
       "RMUnqxsX5Bv5j1T@ku.ac.th        20\n",
       "SbPjyu7e19Me846@ku.ac.th        20\n",
       "5GAHGpodFe@ku.ac.th             19\n",
       "SbPgHyFVgFQpYCJ@ku.ac.th        18\n",
       "RMUnqdWM2oDDyCu@ku.ac.th        18\n",
       "vWf9GrTP@ku.ac.th               18\n",
       "RMUn6owyyopu1G2@ku.ac.th        18\n",
       "4t62nQoWNW@ku.ac.th             18\n",
       "RMUnqdUBYugGdYQ@ku.ac.th        18\n",
       "SbPhmSbBJKyVUER@ku.ac.th        18\n",
       "RMUpKGWagKPtAK1@ku.ac.th        18\n",
       "RMUn6owwzH4Akru@ku.ac.th        18\n",
       "4t4WDrGSdS@ku.ac.th             17\n",
       "VZkvMXZXWEzem2M@ku.ac.th        16\n",
       "RMUn6oz8yGLRrx9@ku.ac.th        16\n",
       "RMUkdLeTr4wrkqb@ku.ac.th        16\n",
       "LJXY5HbqcBb@ku.ac.th            16\n",
       "rXiL2ytB@ku.ac.th               16\n",
       "SbPjyu7cVw4pXn3@ku.ac.th        16\n",
       "yy2MnhXN@ku.ac.th               16\n",
       "RMUnqoArZGGfHAo@ku.ac.th        15\n",
       "SbPjyu7ezLwAyXY@ku.ac.th        15\n",
       "RMUkdLcGNCTzqFd@ku.ac.th        14\n",
       "                                ..\n",
       "RMUnqdWLXv1fq2k@ku.ac.th         2\n",
       "xTvyHSk3@ku.ac.th                2\n",
       "RMUn6owyyokSiK2@ku.ac.th         2\n",
       "4tCyLKifd5@ku.ac.th              2\n",
       "559QyGKGSj@ku.ac.th              1\n",
       "4tBUTS5fJF@ku.ac.th              1\n",
       "RMUjtMPRHPYW3Mn@ku.ac.th         1\n",
       "SbPgHyKtdzNUhuZ@ku.ac.th         1\n",
       "RMUoaSzMcTWGZaQ@ku.ac.th         1\n",
       "RMUn6owyUvgKWP3@ku.ac.th         1\n",
       "xTvyKntS@ku.ac.th                1\n",
       "RMUn6owyyooTNGi@bkn@ku.ac.th     1\n",
       "RMUjtMPRHPYUNdo@ku.ac.th         1\n",
       "4t2WMUV3uM@ku.ac.th              1\n",
       "RMUkdAuZrk9oRcP@ku.ac.th         1\n",
       "RMUn6owyUvaNtkG@bkn@ku.ac.th     1\n",
       "SbPjF5bPSdvHP7u@ku.ac.th         1\n",
       "6X1qyJsLRa3tXV@ku.ac.th          1\n",
       "RMUnqdUCYDhQNZn@ku.ac.th         1\n",
       "J91qeHcyVL3@ku.ac.th             1\n",
       "4tCyLKk39V@ku.ac.th              1\n",
       "SbPkiidpa2apqau@ku.ac.th         1\n",
       "qWFmwYye@ku.ac.th                1\n",
       "RMUn6yeezcZz1Md@ku.ac.th         1\n",
       "SbPkiidpZTsAMK8@ku.ac.th         1\n",
       "SbPgHoWbC3RF5JW@ku.ac.th         1\n",
       "4t4WDrPovj@ku.ac.th              1\n",
       "xU9edePC@ku.ac.th                1\n",
       "RMUpKGYkAf6x9je@ku.ac.th         1\n",
       "6X1qyJsM6qEs9t@ku.ac.th          1\n",
       "Name: user, Length: 1668, dtype: int64"
      ]
     },
     "execution_count": 5,
     "metadata": {},
     "output_type": "execute_result"
    }
   ],
   "source": [
    "csv['user'].value_counts()"
   ]
  },
  {
   "cell_type": "code",
   "execution_count": 6,
   "metadata": {},
   "outputs": [
    {
     "data": {
      "text/plain": [
       "login-page     3574\n",
       "TIMEOUT        3312\n",
       "RE-LOGIN        229\n",
       "logout-page      22\n",
       "Name: agent_type, dtype: int64"
      ]
     },
     "execution_count": 6,
     "metadata": {},
     "output_type": "execute_result"
    }
   ],
   "source": [
    "csv['agent_type'].value_counts()"
   ]
  },
  {
   "cell_type": "code",
   "execution_count": 7,
   "metadata": {},
   "outputs": [
    {
     "data": {
      "text/plain": [
       "::ffff:158.108.218.212    673\n",
       "::ffff:158.108.218.204    665\n",
       "::ffff:158.108.218.201    644\n",
       "::ffff:158.108.218.202    643\n",
       "::ffff:158.108.218.210    592\n",
       "::ffff:158.108.218.207    589\n",
       "::ffff:158.108.218.205    570\n",
       "::ffff:158.108.218.206    570\n",
       "::ffff:158.108.218.208    567\n",
       "::ffff:158.108.218.203    553\n",
       "::ffff:158.108.218.209    548\n",
       "::ffff:158.108.218.211    523\n",
       "Name: agent_ip, dtype: int64"
      ]
     },
     "execution_count": 7,
     "metadata": {},
     "output_type": "execute_result"
    }
   ],
   "source": [
    "csv['agent_ip'].value_counts()"
   ]
  },
  {
   "cell_type": "code",
   "execution_count": 8,
   "metadata": {},
   "outputs": [
    {
     "data": {
      "text/plain": [
       "TIMER                                      3312\n",
       "-                                          3173\n",
       "::ffff:158.108.218.204                       40\n",
       "::ffff:158.108.218.212                       27\n",
       "::ffff:158.108.218.205                       24\n",
       "::ffff:158.108.218.201                       23\n",
       "::ffff:158.108.218.208                       22\n",
       "::ffff:158.108.218.203                       22\n",
       "::ffff:158.108.218.202                       21\n",
       "::ffff:158.108.218.210                       18\n",
       "::ffff:158.108.218.211                       16\n",
       "::ffff:158.108.218.207                       13\n",
       "::ffff:158.108.218.206                       13\n",
       "::ffff:158.108.218.209                       12\n",
       "Wireless-00:cd:fe:bd:31:e5                    9\n",
       "Wireless-54:27:1e:24:31:ad                    9\n",
       "Wireless-70:8b:cd:ec:fa:0f                    5\n",
       "Wireless-98:5a:eb:a6:5c:d2                    5\n",
       "Wireless-64:20:0c:55:3c:3c                    4\n",
       "VPN-nisit-00:ff:52:61:5d:69                   4\n",
       "Wireless-84:38:35:a6:97:8d                    4\n",
       "Wireless-00:1e:65:c1:ad:9a                    4\n",
       "Wireless-8c:fa:ba:52:14:99                    4\n",
       "Wireless-f4:b7:e2:b8:93:d7                    4\n",
       "Wireless-d0:5b:a8:79:89:29                    4\n",
       "VPN-staff-00:ff:fe:94:cb:08                   4\n",
       "Wireless-9c:d2:1e:d4:35:8b                    4\n",
       "VPN-staff-00:ff:29:20:0b:f4                   3\n",
       "VPN-nisit-00:ff:24:92:f4:26                   3\n",
       "Wireless-70:77:81:10:f2:49                    3\n",
       "                                           ... \n",
       "Wireless-00:88:65:8a:cd:a1                    1\n",
       "VPN-nisit-00:ff:b8:3b:b1:f1                   1\n",
       "2406:3100:1018:1::1c04                        1\n",
       "2406:3100:1018:1::383f                        1\n",
       "Wireless-24:a0:74:20:d6:81                    1\n",
       "VPN-nisit-00:ff:5a:51:5c:7e                   1\n",
       "2406:3100:1018:1::ec4                         1\n",
       "2406:3100:1018:1::3a1                         1\n",
       "Wireless-e8:03:9a:cc:5f:b4                    1\n",
       "2406:3100:1018:1::27d9                        1\n",
       "2406:3100:2000:100b:cc0a:2dc2:e623:54c8       1\n",
       "VPN-nisit-00:ff:79:a8:24:48                   1\n",
       "Wireless-4c:57:ca:8d:36:b6                    1\n",
       "2406:3100:1018:1::2f8c                        1\n",
       "Wireless-44:1c:a8:03:76:49                    1\n",
       "2406:3100:1018:1::7c                          1\n",
       "Wireless-e0:94:67:a3:02:8c                    1\n",
       "2406:3100:1018:1::71a                         1\n",
       "2406:3100:1018:1::b7e                         1\n",
       "Wireless-40:b3:95:46:45:9a                    1\n",
       "Wireless-0c:30:21:84:46:83                    1\n",
       "2406:3100:1018:1::1713                        1\n",
       "2406:3100:1018:1::1e64                        1\n",
       "Wireless-98:e0:d9:17:78:7f                    1\n",
       "VPN-nisit-00:ff:19:e4:f6:ae                   1\n",
       "Wireless-00:b3:62:52:0b:93                    1\n",
       "Wireless-10:c3:7b:5f:01:43                    1\n",
       "2406:3100:1018:1::3907                        1\n",
       "Wireless-70:ec:e4:1a:c3:ad                    1\n",
       "158.108.24.249                                1\n",
       "Name: via_ip, Length: 279, dtype: int64"
      ]
     },
     "execution_count": 8,
     "metadata": {},
     "output_type": "execute_result"
    }
   ],
   "source": [
    "csv['via_ip'].value_counts()"
   ]
  },
  {
   "cell_type": "markdown",
   "metadata": {},
   "source": [
    "cut -d' '  -f9 file.csv | grep TIMEOUT | wc -l \n",
    "find TIMEOUT type"
   ]
  },
  {
   "cell_type": "code",
   "execution_count": 60,
   "metadata": {},
   "outputs": [],
   "source": [
    "ipv6 = csv[csv.ipv6 != '-']"
   ]
  },
  {
   "cell_type": "code",
   "execution_count": 61,
   "metadata": {},
   "outputs": [],
   "source": [
    "ipv6 = ipv6[ipv6.ipv4 == '-']"
   ]
  },
  {
   "cell_type": "code",
   "execution_count": 62,
   "metadata": {},
   "outputs": [
    {
     "data": {
      "text/plain": [
       "10"
      ]
     },
     "execution_count": 62,
     "metadata": {},
     "output_type": "execute_result"
    }
   ],
   "source": [
    "len(ipv6)"
   ]
  },
  {
   "cell_type": "markdown",
   "metadata": {},
   "source": [
    "cut -d' ' -f6.7 file.csv | grep -v \"-\" | wc -l\n",
    "for dual stack"
   ]
  },
  {
   "cell_type": "code",
   "execution_count": 86,
   "metadata": {},
   "outputs": [],
   "source": [
    "no1 = no1[no1.ipv4 != '-']"
   ]
  },
  {
   "cell_type": "code",
   "execution_count": 87,
   "metadata": {},
   "outputs": [
    {
     "data": {
      "text/plain": [
       "4000"
      ]
     },
     "execution_count": 87,
     "metadata": {},
     "output_type": "execute_result"
    }
   ],
   "source": [
    "len(no1)"
   ]
  },
  {
   "cell_type": "code",
   "execution_count": 73,
   "metadata": {},
   "outputs": [],
   "source": [
    "no2 = csv[csv.ipv6 != '-']"
   ]
  },
  {
   "cell_type": "code",
   "execution_count": 74,
   "metadata": {},
   "outputs": [
    {
     "data": {
      "text/plain": [
       "3137"
      ]
     },
     "execution_count": 74,
     "metadata": {},
     "output_type": "execute_result"
    }
   ],
   "source": [
    "len(no2)"
   ]
  },
  {
   "cell_type": "markdown",
   "metadata": {},
   "source": [
    "Time series"
   ]
  },
  {
   "cell_type": "raw",
   "metadata": {},
   "source": [
    "from datetime import datetime\n",
    "\n",
    "for ts in csv['login_timestamp']:\n",
    "    ts = int(ts)/1000\n",
    "    print(datetime.utcfromtimestamp(ts).strftime('%H:%M:%S'))\n",
    "    \n",
    "16:30:03\n",
    "17:00:11\n",
    "16:30:27\n",
    "16:30:44\n",
    "17:00:48\n",
    "16:31:12"
   ]
  },
  {
   "cell_type": "markdown",
   "metadata": {},
   "source": [
    "1.Statistic Time Series"
   ]
  },
  {
   "cell_type": "raw",
   "metadata": {},
   "source": [
    "#User per time 1 hr.\n",
    "data collect from 16 to 16 nextday"
   ]
  },
  {
   "cell_type": "code",
   "execution_count": 162,
   "metadata": {},
   "outputs": [],
   "source": [
    "from datetime import datetime\n",
    "\n",
    "def check_null(timestamp):\n",
    "    if timestamp == \"-\":\n",
    "        return \"x\"\n",
    "    else:\n",
    "        return int(timestamp)/1000\n",
    "    \n",
    "dr = {}\n",
    "i=0\n",
    "while i <= 24:\n",
    "    dr[i] = 0\n",
    "    i+=1\n",
    "\n",
    "timenow = 16 \n",
    "flag = False\n",
    "\n",
    "for index, row in csv.iterrows():  \n",
    "    \n",
    "    slogin = check_null(row['login_timestamp'])\n",
    "    ologin = check_null(row['logout_timestamp'])\n",
    "    start_time = int(datetime.utcfromtimestamp(slogin).strftime('%H'))\n",
    "    if ologin != \"x\":\n",
    "        final_time = int(datetime.utcfromtimestamp(ologin).strftime('%H'))\n",
    "    else:\n",
    "        final_time = 40\n",
    "    start_time -= timenow\n",
    "    final_time -= timenow\n",
    "    if start_time < 0 and final_time < 8 and final_time > 0:\n",
    "        start_time = 0\n",
    "    elif start_time < 0 and final_time > 0:\n",
    "        start_time += 24\n",
    "    elif start_time > 0 and final_time < 0:\n",
    "        final_time += 24\n",
    "    elif start_time < 0 and final_time < 0:\n",
    "        start_time += 24\n",
    "        final_time += 24\n",
    "        flag = True\n",
    "    elif flag == True and start_time <= 0:\n",
    "        start_time += 24\n",
    "        if final_time != 24:\n",
    "            final_time += 24\n",
    "            \n",
    "    temp = start_time\n",
    "    while temp <= final_time:\n",
    "        dr[temp] += 1\n",
    "        temp += 1\n",
    "                  \n",
    "v4 = []\n",
    "num4 = []\n",
    "for k, v in dr.items():\n",
    "    if (k+16) < 24:    \n",
    "        v4.append(k+16)\n",
    "    else:\n",
    "        v4.append(k+16-24)\n",
    "    num4.append(v)\n",
    "  "
   ]
  },
  {
   "cell_type": "code",
   "execution_count": 165,
   "metadata": {},
   "outputs": [
    {
     "data": {
      "text/plain": [
       "[59,\n",
       " 203,\n",
       " 191,\n",
       " 168,\n",
       " 177,\n",
       " 187,\n",
       " 218,\n",
       " 316,\n",
       " 452,\n",
       " 747,\n",
       " 1055,\n",
       " 1280,\n",
       " 1519,\n",
       " 1860,\n",
       " 2003,\n",
       " 2304,\n",
       " 2480,\n",
       " 2634,\n",
       " 2752,\n",
       " 3001,\n",
       " 3277,\n",
       " 3460,\n",
       " 3632,\n",
       " 3700,\n",
       " 3690]"
      ]
     },
     "execution_count": 165,
     "metadata": {},
     "output_type": "execute_result"
    }
   ],
   "source": [
    "num4"
   ]
  },
  {
   "cell_type": "markdown",
   "metadata": {},
   "source": [
    "number"
   ]
  },
  {
   "cell_type": "code",
   "execution_count": 51,
   "metadata": {},
   "outputs": [],
   "source": [
    "result = csv.sort_values(['login_timestamp'], ascending=[1])"
   ]
  },
  {
   "cell_type": "markdown",
   "metadata": {},
   "source": [
    "#IP → IPv4, IPv6, Dual per time 1 hr."
   ]
  },
  {
   "cell_type": "code",
   "execution_count": 184,
   "metadata": {},
   "outputs": [],
   "source": [
    "from datetime import datetime\n",
    "\n",
    "def check_null(timestamp):\n",
    "    if timestamp == \"-\":\n",
    "        return \"x\"\n",
    "    else:\n",
    "        return int(timestamp)/1000\n",
    "    \n",
    "def set_zero(a_dict,value):\n",
    "    i=0\n",
    "    while i <= value:\n",
    "        a_dict[i] = 0\n",
    "        i+=1\n",
    "    return a_dict\n",
    "\n",
    "timenow = 16 \n",
    "flag = False\n",
    "ipv6 = {}\n",
    "ipv6 = set_zero(ipv6,24)\n",
    "ipv4 = {}\n",
    "ipv4 = set_zero(ipv4,24)\n",
    "dual = {}\n",
    "dual = set_zero(dual,24)\n",
    "\n",
    "for index, row in csv.iterrows():  \n",
    "    \n",
    "    slogin = check_null(row['login_timestamp'])\n",
    "    ologin = check_null(row['logout_timestamp'])\n",
    "    start_time = int(datetime.utcfromtimestamp(slogin).strftime('%H'))\n",
    "    if ologin != \"x\":\n",
    "        final_time = int(datetime.utcfromtimestamp(ologin).strftime('%H'))\n",
    "    else:\n",
    "        final_time = 40\n",
    "    start_time -= timenow\n",
    "    final_time -= timenow\n",
    "    if start_time < 0 and final_time < 8 and final_time > 0:\n",
    "        start_time = 0\n",
    "    elif start_time < 0 and final_time > 0:\n",
    "        start_time += 24\n",
    "    elif start_time > 0 and final_time < 0:\n",
    "        final_time += 24\n",
    "    elif start_time < 0 and final_time < 0:\n",
    "        start_time += 24\n",
    "        final_time += 24\n",
    "        flag = True\n",
    "    elif flag == True and start_time <= 0:\n",
    "        start_time += 24\n",
    "        if final_time != 24:\n",
    "            final_time += 24\n",
    "            \n",
    "    temp = start_time\n",
    "    while temp <= final_time:\n",
    "        if row['ipv4'] != '-' and row['ipv6'] != '-':\n",
    "            dual[temp] += 1\n",
    "        elif row['ipv4'] != '-' and row['ipv6'] == '-':\n",
    "            ipv4[temp] += 1\n",
    "        elif row['ipv4'] == '-' and row['ipv6'] != '-': \n",
    "            ipv6[temp] += 1\n",
    "        temp += 1\n",
    "\n",
    "v4 = []\n",
    "num4 = []\n",
    "for k, v in ipv4.items():\n",
    "    if (k+16) < 24:    \n",
    "        v4.append(k+16)\n",
    "    else:\n",
    "        v4.append(k+16-24)\n",
    "    num4.append(v)\n",
    "v6 = []\n",
    "num6 = []     \n",
    "for k, v in ipv6.items():\n",
    "    if (k+16) < 24:    \n",
    "        v6.append(k+16)\n",
    "    else:\n",
    "        v6.append(k+16-24)\n",
    "    num6.append(v)\n",
    "\n",
    "vd = []\n",
    "numd = []       \n",
    "for k, v in dual.items():\n",
    "    if (k+16) < 24:    \n",
    "        vd.append(k+16)\n",
    "    else:\n",
    "        vd.append(k+16-24)\n",
    "    numd.append(v)"
   ]
  },
  {
   "cell_type": "code",
   "execution_count": 189,
   "metadata": {},
   "outputs": [
    {
     "data": {
      "text/plain": [
       "[33,\n",
       " 109,\n",
       " 97,\n",
       " 83,\n",
       " 88,\n",
       " 100,\n",
       " 107,\n",
       " 163,\n",
       " 245,\n",
       " 446,\n",
       " 609,\n",
       " 739,\n",
       " 850,\n",
       " 1050,\n",
       " 1148,\n",
       " 1270,\n",
       " 1390,\n",
       " 1454,\n",
       " 1533,\n",
       " 1663,\n",
       " 1830,\n",
       " 1940,\n",
       " 2036,\n",
       " 2080,\n",
       " 2064]"
      ]
     },
     "execution_count": 189,
     "metadata": {},
     "output_type": "execute_result"
    }
   ],
   "source": [
    "num4"
   ]
  },
  {
   "cell_type": "code",
   "execution_count": 190,
   "metadata": {},
   "outputs": [
    {
     "data": {
      "text/plain": [
       "[0, 0, 0, 0, 0, 0, 0, 0, 0, 0, 2, 4, 2, 2, 2, 2, 6, 4, 4, 4, 6, 5, 5, 5, 5]"
      ]
     },
     "execution_count": 190,
     "metadata": {},
     "output_type": "execute_result"
    }
   ],
   "source": [
    "num6"
   ]
  },
  {
   "cell_type": "code",
   "execution_count": 192,
   "metadata": {},
   "outputs": [
    {
     "data": {
      "text/plain": [
       "[26,\n",
       " 94,\n",
       " 94,\n",
       " 85,\n",
       " 89,\n",
       " 87,\n",
       " 111,\n",
       " 153,\n",
       " 207,\n",
       " 301,\n",
       " 444,\n",
       " 537,\n",
       " 667,\n",
       " 808,\n",
       " 853,\n",
       " 1032,\n",
       " 1084,\n",
       " 1176,\n",
       " 1215,\n",
       " 1334,\n",
       " 1441,\n",
       " 1515,\n",
       " 1591,\n",
       " 1615,\n",
       " 1621]"
      ]
     },
     "execution_count": 192,
     "metadata": {},
     "output_type": "execute_result"
    }
   ],
   "source": [
    "numd"
   ]
  },
  {
   "cell_type": "code",
   "execution_count": 193,
   "metadata": {},
   "outputs": [
    {
     "data": {
      "text/plain": [
       "[16,\n",
       " 17,\n",
       " 18,\n",
       " 19,\n",
       " 20,\n",
       " 21,\n",
       " 22,\n",
       " 23,\n",
       " 0,\n",
       " 1,\n",
       " 2,\n",
       " 3,\n",
       " 4,\n",
       " 5,\n",
       " 6,\n",
       " 7,\n",
       " 8,\n",
       " 9,\n",
       " 10,\n",
       " 11,\n",
       " 12,\n",
       " 13,\n",
       " 14,\n",
       " 15,\n",
       " 16]"
      ]
     },
     "execution_count": 193,
     "metadata": {},
     "output_type": "execute_result"
    }
   ],
   "source": [
    "vd"
   ]
  },
  {
   "cell_type": "markdown",
   "metadata": {},
   "source": [
    "#Login/Logout per time 1 hr."
   ]
  },
  {
   "cell_type": "code",
   "execution_count": 195,
   "metadata": {},
   "outputs": [],
   "source": [
    "from datetime import datetime\n",
    "\n",
    "def check_null(timestamp):\n",
    "    if timestamp == \"-\":\n",
    "        return \"x\"\n",
    "    else:\n",
    "        return int(timestamp)/1000\n",
    "    \n",
    "def set_zero(a_dict,value):\n",
    "    i=0\n",
    "    while i <= value:\n",
    "        a_dict[i] = 0\n",
    "        i+=1\n",
    "    return a_dict\n",
    "\n",
    "timenow = 16 \n",
    "flag = False\n",
    "login = {}\n",
    "login = set_zero(login,24)\n",
    "logout = {}\n",
    "logout = set_zero(logout,24)\n",
    "\n",
    "for index, row in csv.iterrows():  \n",
    "    \n",
    "    slogin = check_null(row['login_timestamp'])\n",
    "    ologin = check_null(row['logout_timestamp'])\n",
    "    start_time = int(datetime.utcfromtimestamp(slogin).strftime('%H'))\n",
    "    if ologin != \"x\":\n",
    "        final_time = int(datetime.utcfromtimestamp(ologin).strftime('%H'))\n",
    "    else:\n",
    "        final_time = 40\n",
    "    start_time -= timenow\n",
    "    final_time -= timenow\n",
    "    if start_time < 0 and final_time < 8 and final_time > 0:\n",
    "        start_time = 0\n",
    "    elif start_time < 0 and final_time > 0:\n",
    "        start_time += 24\n",
    "    elif start_time > 0 and final_time < 0:\n",
    "        final_time += 24\n",
    "    elif start_time < 0 and final_time < 0:\n",
    "        start_time += 24\n",
    "        final_time += 24\n",
    "        flag = True\n",
    "    elif flag == True and start_time <= 0:\n",
    "        start_time += 24\n",
    "        if final_time != 24:\n",
    "            final_time += 24\n",
    "            \n",
    "    temp = start_time\n",
    "    while temp <= final_time:\n",
    "        if row['agent_type'] == 'login-page':\n",
    "            login[temp] += 1\n",
    "        elif row['agent_type'] == 'logout-page':\n",
    "            logout[temp] += 1\n",
    "        temp += 1\n",
    "\n",
    "lin = []\n",
    "n_lin = []\n",
    "for k, v in login.items():\n",
    "    if (k+16) < 24:    \n",
    "        lin.append(k+16)\n",
    "    else:\n",
    "        lin.append(k+16-24)\n",
    "    n_lin.append(v)\n",
    "lot = []\n",
    "n_lot = []     \n",
    "for k, v in logout.items():\n",
    "    if (k+16) < 24:    \n",
    "        lot.append(k+16)\n",
    "    else:\n",
    "        lot.append(k+16-24)\n",
    "    n_lot.append(v)"
   ]
  },
  {
   "cell_type": "code",
   "execution_count": 199,
   "metadata": {},
   "outputs": [
    {
     "data": {
      "text/plain": [
       "[1, 1, 1, 0, 0, 0, 0, 1, 0, 0, 0, 2, 5, 3, 4, 7, 6, 4, 2, 3, 2, 4, 3, 3, 1]"
      ]
     },
     "execution_count": 199,
     "metadata": {},
     "output_type": "execute_result"
    }
   ],
   "source": [
    "n_lot"
   ]
  },
  {
   "cell_type": "code",
   "execution_count": 200,
   "metadata": {},
   "outputs": [
    {
     "data": {
      "text/plain": [
       "[0,\n",
       " 72,\n",
       " 109,\n",
       " 128,\n",
       " 148,\n",
       " 161,\n",
       " 185,\n",
       " 243,\n",
       " 332,\n",
       " 516,\n",
       " 732,\n",
       " 945,\n",
       " 1177,\n",
       " 1447,\n",
       " 1655,\n",
       " 1917,\n",
       " 2122,\n",
       " 2317,\n",
       " 2480,\n",
       " 2690,\n",
       " 2929,\n",
       " 3130,\n",
       " 3328,\n",
       " 3466,\n",
       " 3574]"
      ]
     },
     "execution_count": 200,
     "metadata": {},
     "output_type": "execute_result"
    }
   ],
   "source": [
    "n_lin"
   ]
  },
  {
   "cell_type": "markdown",
   "metadata": {},
   "source": [
    "2.Distribution"
   ]
  },
  {
   "cell_type": "markdown",
   "metadata": {},
   "source": [
    "Ratio IP Usage --> circle graph (ipv4, ipv6)\n",
    "- IPv4\n",
    "- Pv6\n",
    "- Dual"
   ]
  },
  {
   "cell_type": "code",
   "execution_count": 204,
   "metadata": {},
   "outputs": [
    {
     "data": {
      "text/plain": [
       "10"
      ]
     },
     "execution_count": 204,
     "metadata": {},
     "output_type": "execute_result"
    }
   ],
   "source": [
    "ipv6 = csv[csv.ipv6 != '-']\n",
    "ipv6 = ipv6[ipv6.ipv4 == '-']\n",
    "len(ipv6)"
   ]
  },
  {
   "cell_type": "code",
   "execution_count": 206,
   "metadata": {},
   "outputs": [
    {
     "data": {
      "text/plain": [
       "4000"
      ]
     },
     "execution_count": 206,
     "metadata": {},
     "output_type": "execute_result"
    }
   ],
   "source": [
    "ipv4 = csv[csv.ipv4 != '-']\n",
    "ipv4 = ipv4[ipv4.ipv6 == '-']\n",
    "len(ipv4)"
   ]
  },
  {
   "cell_type": "code",
   "execution_count": 207,
   "metadata": {},
   "outputs": [
    {
     "data": {
      "text/plain": [
       "3127"
      ]
     },
     "execution_count": 207,
     "metadata": {},
     "output_type": "execute_result"
    }
   ],
   "source": [
    "dual = csv[csv.ipv4 != '-']\n",
    "dual = dual[dual.ipv6 != '-']\n",
    "len(dual)"
   ]
  },
  {
   "cell_type": "markdown",
   "metadata": {},
   "source": [
    "Login Server Distribution **(not have mac address on this data)"
   ]
  },
  {
   "cell_type": "raw",
   "metadata": {},
   "source": [
    "import urllib.request as urllib2\n",
    "import json\n",
    "import codecs\n",
    "\n",
    "#API base url,you can also use https if you need\n",
    "url = \"http://macvendors.co/api/\"\n",
    "#Mac address to lookup vendor from\n",
    "mac_address = \"BC926BA00001\"\n",
    "\n",
    "for mac_address in csv['mac_address']:\n",
    "    print(mac_address)\n",
    "    request = urllib2.Request(url+mac_address, headers={'User-Agent' : \"API Browser\"}) \n",
    "    response = urllib2.urlopen( request )\n",
    "    #Fix: json object must be str, not 'bytes'\n",
    "    reader = codecs.getreader(\"utf-8\")\n",
    "    obj = json.load(reader(response))\n",
    "    print(obj['result']['company']);\n",
    "\n",
    "#print company address\n",
    "#print (obj['result']['address']);"
   ]
  },
  {
   "cell_type": "markdown",
   "metadata": {},
   "source": [
    "Login Activity (agent_type)\n",
    "- login-page\n",
    "- RE-LOGIN\n",
    "- TIMEOUT\n",
    "- logout-page "
   ]
  },
  {
   "cell_type": "code",
   "execution_count": 212,
   "metadata": {},
   "outputs": [],
   "source": [
    "login_page = csv[csv.agent_type == 'login-page']\n",
    "RE_LOGIN = csv[csv.agent_type == 'RE-LOGIN']\n",
    "TIMEOUT = csv[csv.agent_type == 'TIMEOUT']\n",
    "logout_page = csv[csv.agent_type == 'logout-page']"
   ]
  },
  {
   "cell_type": "code",
   "execution_count": 213,
   "metadata": {},
   "outputs": [
    {
     "name": "stdout",
     "output_type": "stream",
     "text": [
      "3574 229 3312 22\n"
     ]
    }
   ],
   "source": [
    "print(len(login_page),len(RE_LOGIN),len(TIMEOUT),len(logout_page))"
   ]
  },
  {
   "cell_type": "code",
   "execution_count": null,
   "metadata": {},
   "outputs": [],
   "source": []
  }
 ],
 "metadata": {
  "kernelspec": {
   "display_name": "Python3",
   "language": "python",
   "name": "python_3"
  },
  "language_info": {
   "codemirror_mode": {
    "name": "ipython",
    "version": 3
   },
   "file_extension": ".py",
   "mimetype": "text/x-python",
   "name": "python",
   "nbconvert_exporter": "python",
   "pygments_lexer": "ipython3",
   "version": "3.6.2"
  }
 },
 "nbformat": 4,
 "nbformat_minor": 2
}
